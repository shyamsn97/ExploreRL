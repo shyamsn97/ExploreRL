{
 "cells": [
  {
   "cell_type": "code",
   "execution_count": 1,
   "metadata": {},
   "outputs": [],
   "source": [
    "import numpy as np\n",
    "import torch\n",
    "import tensorflow as tf\n",
    "import gym\n",
    "import sys\n",
    "from collections import deque\n",
    "import random"
   ]
  },
  {
   "cell_type": "code",
   "execution_count": 2,
   "metadata": {},
   "outputs": [],
   "source": [
    "from explorerl.utils import *\n",
    "from explorerl.agents import *\n",
    "from explorerl.DQN import *"
   ]
  },
  {
   "cell_type": "markdown",
   "metadata": {},
   "source": [
    "## DQN Tensorflow"
   ]
  },
  {
   "cell_type": "code",
   "execution_count": 3,
   "metadata": {},
   "outputs": [],
   "source": [
    "env = gym.make('CartPole-v0')"
   ]
  },
  {
   "cell_type": "code",
   "execution_count": 4,
   "metadata": {},
   "outputs": [],
   "source": [
    "e = Env_Wrapper(env)"
   ]
  },
  {
   "cell_type": "code",
   "execution_count": 5,
   "metadata": {},
   "outputs": [],
   "source": [
    "d = DQNTF()"
   ]
  },
  {
   "cell_type": "code",
   "execution_count": null,
   "metadata": {},
   "outputs": [
    {
     "name": "stderr",
     "output_type": "stream",
     "text": [
      "\r",
      "  0%|          | 0/500 [00:00<?, ?it/s]"
     ]
    },
    {
     "name": "stdout",
     "output_type": "stream",
     "text": [
      "Model Created!\n"
     ]
    },
    {
     "name": "stderr",
     "output_type": "stream",
     "text": [
      "Epsilon : 2.5050348197751157e-17, Num Steps : 199, Avg Reward with Window Size 25 : 105.8:  25%|██▍       | 124/500 [22:43<1:08:54, 11.00s/it]      "
     ]
    }
   ],
   "source": [
    "stats = e.train(d,episodes=500,train_episodal=False)"
   ]
  },
  {
   "cell_type": "code",
   "execution_count": null,
   "metadata": {},
   "outputs": [],
   "source": [
    "e.test(d)"
   ]
  },
  {
   "cell_type": "markdown",
   "metadata": {},
   "source": [
    "## DQN Torch"
   ]
  },
  {
   "cell_type": "code",
   "execution_count": null,
   "metadata": {},
   "outputs": [],
   "source": [
    "import torch.nn.functional as F\n",
    "class FeedForwardNNTorch(torch.nn.Module):\n",
    "    def __init__(self,input_size,output_size):\n",
    "        super(FeedForwardNNTorch, self).__init__()\n",
    "        self.linear1 = torch.nn.Linear(input_size,24)\n",
    "        self.linear2 = torch.nn.Linear(24,24)\n",
    "        self.linear3 = torch.nn.Linear(24,output_size)\n",
    "        \n",
    "    def forward(self,x):\n",
    "        x = F.relu(self.linear1(x))\n",
    "        x = F.relu(self.linear2(x))\n",
    "        x = self.linear3(x)\n",
    "        return x"
   ]
  },
  {
   "cell_type": "code",
   "execution_count": null,
   "metadata": {},
   "outputs": [],
   "source": [
    "class DQNTorch(BaseAgent):\n",
    "    def __init__(self,epsilon=1.0, decay= 0.98, gamma=1.0, \n",
    "                 learning_rate=0.01, featurizer=None,scaler=None, use_bias = False,has_replay=True,\n",
    "                 replay_size=2000,replay_batch=32):\n",
    "        super(DQNTorch, self).__init__(gamma, \n",
    "                 learning_rate, featurizer,scaler,use_bias,has_replay)\n",
    "        self.name = \"DQNTorch\"\n",
    "        self.epsilon = epsilon\n",
    "        self.decay = decay        \n",
    "        self.experience_replay = deque(maxlen=replay_size)\n",
    "        self.replay_batch = replay_batch\n",
    "        self.original_configs = {\"epsilon\":self.epsilon,\"decay\":self.decay}\n",
    "    \n",
    "    def initialize_replay(self,env):\n",
    "        c = 0\n",
    "        while c < self.experience_replay.maxlen:\n",
    "            obs = env.reset()\n",
    "            while True:\n",
    "                action = env.action_space.sample()\n",
    "                next_obs, reward, done, info = env.step(action)\n",
    "                self.save_replay(self.featurize_state(obs),action,self.featurize_state(next_obs),reward,done)\n",
    "                c += 1\n",
    "                if done:\n",
    "                    break\n",
    "            \n",
    "    def save_replay(self,obs,action,next_obs,reward,done):\n",
    "        self.experience_replay.append([obs,action,next_obs,reward,done])\n",
    "\n",
    "    def replay(self,policy):\n",
    "        minibatch = random.sample(self.experience_replay, self.replay_batch)\n",
    "        obs_arr = []\n",
    "        targets = []\n",
    "        loss_func = self.model[\"loss\"]\n",
    "        optimizer = self.model[\"optimizer\"]\n",
    "        for obs, action, next_obs, reward, done in minibatch:\n",
    "            _, qvals = policy(obs)\n",
    "            target = reward\n",
    "            with torch.no_grad():\n",
    "                next_ac, next_qs = policy(next_obs)\n",
    "                val = np.max(next_qs.detach().numpy().flatten())\n",
    "                if done == False:\n",
    "                    target += self.gamma*(val)\n",
    "                target_vals = qvals.clone().detach().numpy()\n",
    "                target_vals[0][action] = target\n",
    "            loss = loss_func(qvals,torch.tensor(target_vals,requires_grad=False))\n",
    "            optimizer.zero_grad()  \n",
    "            loss.backward()\n",
    "            optimizer.step()\n",
    "            obs_arr.append(obs)\n",
    "            targets.append(target_vals)\n",
    "        obs_arr = np.array(obs_arr)\n",
    "        targets = np.array(targets)\n",
    "        return obs_arr,targets\n",
    "    \n",
    "    def initialize_model(self,observation_space,action_space):\n",
    "        self.epsilon = self.original_configs[\"epsilon\"]\n",
    "        self.decay = self.original_configs[\"decay\"]\n",
    "        self.observation_space = observation_space[0]\n",
    "        self.action_space = action_space\n",
    "        input_space = self.observation_space  \n",
    "        if self.featurizer:\n",
    "            input_space = self.featurizer.transform([np.ones(self.observation_space)]).flatten().shape[0]\n",
    "        if self.use_bias:\n",
    "            input_space += 1\n",
    "\n",
    "        model = FeedForwardNNTorch(input_space,action_space)\n",
    "        self.model[\"outputs\"] = model\n",
    "        self.model[\"loss\"] = torch.nn.MSELoss()\n",
    "        self.model[\"optimizer\"] = torch.optim.Adam(params=self.model[\"outputs\"].parameters(),lr=self.learning_rate,weight_decay=0.0001)\n",
    "        print(\"Model Created!\")\n",
    "    \n",
    "    def update_hyper_params(self,episode):\n",
    "        self.epsilon *= (self.decay**episode)\n",
    "        \n",
    "    def train_policy(self):\n",
    "        return self.epsilon_greedy()\n",
    "    \n",
    "    def test_policy(self):\n",
    "        return self.greedy()\n",
    "    \n",
    "    def epsilon_greedy(self):\n",
    "        def act(obs):\n",
    "            obs = torch.tensor(obs).float()\n",
    "            qvals = self.model[\"outputs\"](obs)\n",
    "            if np.random.random() < self.epsilon:\n",
    "                return np.random.choice(self.action_space) , qvals\n",
    "            with torch.no_grad():\n",
    "                _ , action = torch.tensor(qvals).max(1)            \n",
    "            return int(action), qvals\n",
    "        return act\n",
    "                  \n",
    "    def greedy(self):\n",
    "        def act(obs):\n",
    "            obs = torch.tensor(obs).float()\n",
    "            qvals = self.model[\"outputs\"](obs)\n",
    "            with torch.no_grad():\n",
    "                _ , action = torch.tensor(qvals).max(1)            \n",
    "            return int(action), qvals\n",
    "        return act\n",
    "\n",
    "    def episodal_train_iter(self,policy):\n",
    "        obs, targets = self.get_replay(training_op,policy)\n",
    "        _, outs = policy(obs)\n",
    "        \n",
    "    def train_iter(self,policy,action,values,obs,next_obs,reward,done):\n",
    "        self.save_replay(obs,action,next_obs,reward,done)\n",
    "        obs, targets = self.replay(policy)\n",
    "        \n",
    "    def train(self,env,episodes=200,early_stop=False,stop_criteria=20):\n",
    "        prev_avg = -float('inf')\n",
    "        orig_epsilon = self.epsilon\n",
    "        bar = tqdm(np.arange(episodes),file=sys.stdout)\n",
    "        policy = self.epsilon_greedy()\n",
    "        criteria = 0 #stopping condition\n",
    "        for i in bar:\n",
    "            observation = env.reset()\n",
    "            self.epsilon *= (self.decay**i)\n",
    "            rewards = 0\n",
    "            end = 0\n",
    "            losses = 0\n",
    "            for t in range(10000):\n",
    "                values = policy(observation)\n",
    "                action = values[0]\n",
    "                next_obs, reward, done, info = env.step(action)\n",
    "                self.train_iter(policy,action,values[1:],observation,next_obs,reward,done)\n",
    "                rewards += reward\n",
    "                end = t\n",
    "                if done:\n",
    "                    break\n",
    "                observation = next_obs\n",
    "                \n",
    "            self.stats[\"num_steps\"].append(end)\n",
    "            self.stats[\"episodes\"].append(i)\n",
    "            self.stats[\"rewards\"].append(rewards)\n",
    "            avg = np.mean(self.stats[\"rewards\"][::-1][:25])\n",
    "            bar.set_description(\"Epsilon and reward {} : {}\".format(self.epsilon,avg))\n",
    "            \n",
    "            if avg < prev_avg:\n",
    "                criteria += 1\n",
    "                \n",
    "            if early_stop:\n",
    "                if criteria >= stop_criteria:\n",
    "                    break\n",
    "                    \n",
    "            prev_avg = avg\n",
    "        return self.stats "
   ]
  },
  {
   "cell_type": "code",
   "execution_count": null,
   "metadata": {},
   "outputs": [],
   "source": [
    "d = DQNTorch()"
   ]
  },
  {
   "cell_type": "code",
   "execution_count": null,
   "metadata": {},
   "outputs": [],
   "source": [
    "e = Env_Wrapper(env)\n",
    "stats = e.train(d,episodes=500,train_episodal=False)"
   ]
  },
  {
   "cell_type": "code",
   "execution_count": null,
   "metadata": {},
   "outputs": [],
   "source": [
    "e.test(d)"
   ]
  }
 ],
 "metadata": {
  "kernelspec": {
   "display_name": "Python [conda env:py36]",
   "language": "python",
   "name": "conda-env-py36-py"
  },
  "language_info": {
   "codemirror_mode": {
    "name": "ipython",
    "version": 3
   },
   "file_extension": ".py",
   "mimetype": "text/x-python",
   "name": "python",
   "nbconvert_exporter": "python",
   "pygments_lexer": "ipython3",
   "version": "3.6.6"
  }
 },
 "nbformat": 4,
 "nbformat_minor": 2
}
